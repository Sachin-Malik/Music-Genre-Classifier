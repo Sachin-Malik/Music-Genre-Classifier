{
  "nbformat": 4,
  "nbformat_minor": 0,
  "metadata": {
    "colab": {
      "name": "ML_Sachin_Final.ipynb",
      "private_outputs": true,
      "provenance": []
    },
    "kernelspec": {
      "name": "python3",
      "display_name": "Python 3"
    }
  },
  "cells": [
    {
      "cell_type": "markdown",
      "metadata": {
        "id": "sS-dPe2GsgXC"
      },
      "source": [
        "## Importing Libraries"
      ]
    },
    {
      "cell_type": "code",
      "metadata": {
        "id": "xO4Nwo4iomTJ"
      },
      "source": [
        "import librosa\n",
        "import pandas as pd\n",
        "import numpy as np\n",
        "import matplotlib.pyplot as plt\n",
        "%matplotlib inline\n",
        "import os\n",
        "from PIL import Image\n",
        "import pathlib\n",
        "from sklearn.model_selection import train_test_split\n",
        "from sklearn.preprocessing import LabelEncoder, StandardScaler ,minmax_scale\n",
        "from keras import layers\n",
        "from keras import layers\n",
        "import keras\n",
        "import warnings\n",
        "warnings.filterwarnings('ignore')"
      ],
      "execution_count": null,
      "outputs": []
    },
    {
      "cell_type": "code",
      "metadata": {
        "id": "1KCZKaiNo8yU"
      },
      "source": [
        "from google.colab import drive\n",
        "drive.mount('/content/drive')"
      ],
      "execution_count": null,
      "outputs": []
    },
    {
      "cell_type": "markdown",
      "metadata": {
        "id": "S2Mci8Dnssu2"
      },
      "source": [
        "## Converting Audio Dataset Into Images"
      ]
    },
    {
      "cell_type": "code",
      "metadata": {
        "id": "J6_rVbrxo-C4"
      },
      "source": [
        "cmap = plt.get_cmap('inferno')\n",
        "plt.figure(figsize=(8,8))\n",
        "genres = 'blues classical country disco hiphop jazz metal pop reggae rock'.split()\n"
      ],
      "execution_count": null,
      "outputs": []
    },
    {
      "cell_type": "code",
      "metadata": {
        "id": "pzx9XdIIpCtY"
      },
      "source": [
        "for g in genres:\n",
        "    pathlib.Path(f'imgT5_data/{g}').mkdir(parents=True, exist_ok=True)\n",
        "    for filename in os.listdir(f'./drive/My Drive/genres_original/{g}'):\n",
        "        songname = f'./drive/My Drive/genres_original/{g}/{filename}'\n",
        "\n",
        "\n",
        "        y, sr = librosa.load(songname, mono=True, duration=5)\n",
        "        plt.specgram(y, NFFT=2048, Fs=2, Fc=0, noverlap=128, cmap=cmap, sides='default', mode='default', scale='dB');\n",
        "        plt.axis('off');\n",
        "        plt.savefig(f'imgT5_data/{g}/{filename[:-3].replace(\".\", \"\")}.png')\n",
        "        plt.clf()\n",
        "        "
      ],
      "execution_count": null,
      "outputs": []
    },
    {
      "cell_type": "code",
      "metadata": {
        "id": "0owaTA6qpEM4"
      },
      "source": [
        "header = 'filename chroma_stft spectral_centroid spectral_bandwidth rolloff zero_crossing_rate'\n",
        "for i in range(1, 21):\n",
        "    header += f' mfcc{i}'\n",
        "header += ' label'\n",
        "header = header.split()"
      ],
      "execution_count": null,
      "outputs": []
    },
    {
      "cell_type": "markdown",
      "metadata": {
        "id": "roFlQwLUtXPX"
      },
      "source": [
        "## Forming a .CSV File"
      ]
    },
    {
      "cell_type": "code",
      "metadata": {
        "id": "Jsaxy-7upHrp"
      },
      "source": [
        "import csv\n",
        "file = open('data.csv', 'w', newline='')\n",
        "with file:\n",
        "    writer = csv.writer(file)\n",
        "    writer.writerow(header)\n",
        "genres = 'blues classical country disco hiphop metal pop reggae rock'.split()\n",
        "for g in genres:\n",
        "    for filename in os.listdir(f'./drive/My Drive/Colab Notebooks/GT_DATA/Data_GT/{g}'):\n",
        "        songname = f'./drive/My Drive/Colab Notebooks/GT_DATA/Data_GT/{g}/{filename}'\n",
        "\n",
        "        y, sr = librosa.load(songname, mono=True, duration=30)\n",
        "        chroma_stft = librosa.feature.chroma_stft(y=y, sr=sr)\n",
        "        spec_cent = librosa.feature.spectral_centroid(y=y, sr=sr)\n",
        "        spec_bw = librosa.feature.spectral_bandwidth(y=y, sr=sr)\n",
        "        rolloff = librosa.feature.spectral_rolloff(y=y, sr=sr)\n",
        "        zcr = librosa.feature.zero_crossing_rate(y)\n",
        "        mfcc = librosa.feature.mfcc(y=y, sr=sr)\n",
        "\n",
        "        to_append = f'{filename} {np.mean(chroma_stft)} {np.mean(spec_cent)} {np.mean(spec_bw)} {np.mean(rolloff)} {np.mean(zcr)}'\n",
        "\n",
        "        for e in mfcc:\n",
        "            to_append += f' {np.mean(e)}'\n",
        "        to_append += f' {g}'\n",
        "        file = open('data.csv', 'a', newline='')\n",
        "        with file:\n",
        "            writer = csv.writer(file)\n",
        "            writer.writerow(to_append.split())\n",
        "            "
      ],
      "execution_count": null,
      "outputs": []
    },
    {
      "cell_type": "code",
      "metadata": {
        "id": "a_br9SETpL7o"
      },
      "source": [
        "datanew=pd.read_csv('/content/data2.csv')"
      ],
      "execution_count": null,
      "outputs": []
    },
    {
      "cell_type": "code",
      "metadata": {
        "id": "ekRDvHBKyvN5"
      },
      "source": [
        "datanew.head()"
      ],
      "execution_count": null,
      "outputs": []
    },
    {
      "cell_type": "code",
      "metadata": {
        "id": "b__mnCvipR47"
      },
      "source": [
        "datanew = datanew.drop(['filename'],axis=1)"
      ],
      "execution_count": null,
      "outputs": []
    },
    {
      "cell_type": "markdown",
      "metadata": {
        "id": "5_9KZ6xEti0W"
      },
      "source": [
        "## Label Encoding"
      ]
    },
    {
      "cell_type": "code",
      "metadata": {
        "id": "BEsT73UXpVhk"
      },
      "source": [
        "genre_list = datanew.iloc[:, -1]\n",
        "print(genre_list)\n",
        "encoder = LabelEncoder()\n"
      ],
      "execution_count": null,
      "outputs": []
    },
    {
      "cell_type": "code",
      "metadata": {
        "id": "yNQJDIsfpfQ9"
      },
      "source": [
        "y = encoder.fit_transform(genre_list)"
      ],
      "execution_count": null,
      "outputs": []
    },
    {
      "cell_type": "markdown",
      "metadata": {
        "id": "sjEhijHStoLs"
      },
      "source": [
        "## Standardization"
      ]
    },
    {
      "cell_type": "code",
      "metadata": {
        "id": "lSR1J2kEphqQ"
      },
      "source": [
        "scaler = StandardScaler()\n",
        "X = scaler.fit_transform(np.array(datanew.iloc[:, :-1], dtype = float))"
      ],
      "execution_count": null,
      "outputs": []
    },
    {
      "cell_type": "markdown",
      "metadata": {
        "id": "UOqsNo07tvyt"
      },
      "source": [
        "## Spiliting The Dataset Into Training and Testing"
      ]
    },
    {
      "cell_type": "markdown",
      "metadata": {
        "id": "G89HpWPOIN9-"
      },
      "source": [
        ""
      ]
    },
    {
      "cell_type": "code",
      "metadata": {
        "id": "QtBp7LHnpl7V"
      },
      "source": [
        "X_train, X_test, y_train, y_test = train_test_split(X, y, test_size=0.2 , random_state=95)\n"
      ],
      "execution_count": null,
      "outputs": []
    },
    {
      "cell_type": "code",
      "metadata": {
        "id": "O4xVWqk7FB11"
      },
      "source": [
        "from keras import models\n",
        "from keras import layers\n",
        "from keras.models import Sequential\n",
        "from keras.layers import Dense\n",
        "from keras.layers import Dropout"
      ],
      "execution_count": null,
      "outputs": []
    },
    {
      "cell_type": "markdown",
      "metadata": {
        "id": "5RG1UE6wt5Ip"
      },
      "source": [
        "## Getting Best Possible ANN Model"
      ]
    },
    {
      "cell_type": "code",
      "metadata": {
        "id": "CvjicR-pprAH"
      },
      "source": [
        "from keras.wrappers.scikit_learn import KerasClassifier\n",
        "from sklearn.model_selection import GridSearchCV\n"
      ],
      "execution_count": null,
      "outputs": []
    },
    {
      "cell_type": "code",
      "metadata": {
        "id": "qJk9wVKdp1vA"
      },
      "source": [
        "def create_model(layers):\n",
        "    model5=Sequential()\n",
        "    for i,nodes in enumerate(layers):\n",
        "        if i==0:\n",
        "            model5.add(Dense(nodes,activation='relu',input_dim=X_train.shape[1]))\n",
        "            model5.add(Dropout(0.2))\n",
        "        else:\n",
        "            model5.add(Dense(nodes,activation='relu'))\n",
        "            model5.add(Dropout(0.2))\n",
        "    model5.add(Dense(10,activation='softmax'))\n",
        "    model5.compile(optimizer='adam',\n",
        "              loss='sparse_categorical_crossentropy',\n",
        "              metrics=['accuracy'])\n",
        "    return model5"
      ],
      "execution_count": null,
      "outputs": []
    },
    {
      "cell_type": "code",
      "metadata": {
        "id": "4W_TLqE7p6Xo"
      },
      "source": [
        "model5=KerasClassifier(build_fn=create_model,verbose=0)"
      ],
      "execution_count": null,
      "outputs": []
    },
    {
      "cell_type": "code",
      "metadata": {
        "id": "78QQCao2p7Dr"
      },
      "source": [
        "layers=[(512,256,128,64),(250,120),(250,120,70),(450,200),(250,),(512,)]\n",
        "param_grid = dict(layers=layers,batch_size=[128],epochs=[80])\n"
      ],
      "execution_count": null,
      "outputs": []
    },
    {
      "cell_type": "code",
      "metadata": {
        "id": "rGDTpdRtp9CZ"
      },
      "source": [
        "grid1 = GridSearchCV(estimator=model5,param_grid=param_grid)"
      ],
      "execution_count": null,
      "outputs": []
    },
    {
      "cell_type": "code",
      "metadata": {
        "id": "b70coazmp_sq"
      },
      "source": [
        "grid1_result = grid1.fit(X_train,y_train)"
      ],
      "execution_count": null,
      "outputs": []
    },
    {
      "cell_type": "code",
      "metadata": {
        "id": "MjioUuF4qDIc"
      },
      "source": [
        "[grid1_result.best_score_,grid1_result.best_params_]"
      ],
      "execution_count": null,
      "outputs": []
    },
    {
      "cell_type": "markdown",
      "metadata": {
        "id": "6uN2t4H4uPpa"
      },
      "source": [
        "## Building ANN Model"
      ]
    },
    {
      "cell_type": "code",
      "metadata": {
        "id": "SMRBJB1oqW_L"
      },
      "source": [
        "from keras import models\n",
        "from keras import layers\n",
        "from keras.models import Sequential\n",
        "from keras.layers import Dense\n",
        "from keras.layers import Dropout"
      ],
      "execution_count": null,
      "outputs": []
    },
    {
      "cell_type": "code",
      "metadata": {
        "id": "pg3l8Mo7qXnV"
      },
      "source": [
        "model = models.Sequential()\n",
        "\n",
        "model.add(layers.Dense(250, activation='relu', input_shape=(X_train.shape[1],)))\n",
        "model.add(Dropout(0.2))\n",
        "model.add(layers.Dense(120, activation='relu'))\n",
        "model.add(Dropout(0.2))\n",
        "model.add(layers.Dense(70, activation='relu'))\n",
        "model.add(Dropout(0.2))\n",
        "model.add(layers.Dense(9, activation='softmax'))"
      ],
      "execution_count": null,
      "outputs": []
    },
    {
      "cell_type": "code",
      "metadata": {
        "id": "VnYSnv67qaCN"
      },
      "source": [
        "model.compile(optimizer='adam',\n",
        "              loss='sparse_categorical_crossentropy',\n",
        "              metrics=['accuracy'])"
      ],
      "execution_count": null,
      "outputs": []
    },
    {
      "cell_type": "code",
      "metadata": {
        "id": "15pHduITqd0J"
      },
      "source": [
        "history = model.fit(X_train,\n",
        "                    y_train,validation_data=(X_test,y_test),\n",
        "                    epochs=80,\n",
        "                    batch_size=128)\n",
        "\n"
      ],
      "execution_count": null,
      "outputs": []
    },
    {
      "cell_type": "code",
      "metadata": {
        "id": "Ct2MLtuDrnVH"
      },
      "source": [
        "model.summary()"
      ],
      "execution_count": null,
      "outputs": []
    },
    {
      "cell_type": "code",
      "metadata": {
        "id": "3W5Ah9Uzrpgp"
      },
      "source": [
        "test_loss, test_accuracy = model.evaluate(X_test,y_test)"
      ],
      "execution_count": null,
      "outputs": []
    },
    {
      "cell_type": "markdown",
      "metadata": {
        "id": "2cLupajnuXXY"
      },
      "source": [
        "## Getting Prediction"
      ]
    },
    {
      "cell_type": "code",
      "metadata": {
        "id": "YmSA5O0ersZd"
      },
      "source": [
        "pred_y=model.predict(X_test)"
      ],
      "execution_count": null,
      "outputs": []
    },
    {
      "cell_type": "code",
      "metadata": {
        "id": "dIQS0dS7rvBE"
      },
      "source": [
        "dataf2=pd.DataFrame(pred_y)"
      ],
      "execution_count": null,
      "outputs": []
    },
    {
      "cell_type": "code",
      "metadata": {
        "id": "HghXUV7Frv2V"
      },
      "source": [
        "maxValueIndex2 = dataf2.idxmax(axis = 1)"
      ],
      "execution_count": null,
      "outputs": []
    },
    {
      "cell_type": "code",
      "metadata": {
        "id": "dHtqxzWJrzzE"
      },
      "source": [
        "print(maxValueIndex2)"
      ],
      "execution_count": null,
      "outputs": []
    },
    {
      "cell_type": "markdown",
      "metadata": {
        "id": "WClyBFKvuxu8"
      },
      "source": [
        "## Confusion Matrix"
      ]
    },
    {
      "cell_type": "code",
      "metadata": {
        "id": "PLFDrgGar59r"
      },
      "source": [
        "from sklearn.metrics import confusion_matrix , classification_report\n",
        "print(confusion_matrix(y_test,maxValueIndex2))"
      ],
      "execution_count": null,
      "outputs": []
    },
    {
      "cell_type": "markdown",
      "metadata": {
        "id": "6Ue1kNDpu3GA"
      },
      "source": [
        "## Classification Report"
      ]
    },
    {
      "cell_type": "code",
      "metadata": {
        "id": "VkpMEwABr_Sw"
      },
      "source": [
        "print(classification_report(y_test, maxValueIndex2))"
      ],
      "execution_count": null,
      "outputs": []
    },
    {
      "cell_type": "markdown",
      "metadata": {
        "id": "qmcs_oGRvCaF"
      },
      "source": [
        "## Loss And Accuracy Function Graph"
      ]
    },
    {
      "cell_type": "code",
      "metadata": {
        "id": "n9VaK2EiqgOo"
      },
      "source": [
        "def plot_history(history):\n",
        "\n",
        "    fig, axs = plt.subplots(2)\n",
        "\n",
        "    # create accuracy sublpot\n",
        "    axs[0].plot(history.history[\"accuracy\"], label=\"train accuracy\")\n",
        "    axs[0].plot(history.history[\"val_accuracy\"], label=\"testing accuracy\")\n",
        "    axs[0].set_ylabel(\"Accuracy\")\n",
        "    axs[0].legend(loc=\"upper left\")\n",
        "    axs[0].set_title(\"Accuracy evaluation\")\n",
        "    fig.tight_layout()\n",
        "\n",
        "    # create loss sublpot\n",
        "    axs[1].plot(history.history[\"loss\"], label=\"train error\")\n",
        "    axs[1].plot(history.history[\"val_loss\"], label=\"testing error\")\n",
        "    axs[1].set_ylabel(\"loss\")\n",
        "    axs[1].set_xlabel(\"Epoch\")\n",
        "    axs[1].legend(loc=\"lower left\")\n",
        "    axs[1].set_title(\"Loss evaluation\")\n",
        "\n",
        "    plt.show()"
      ],
      "execution_count": null,
      "outputs": []
    },
    {
      "cell_type": "code",
      "metadata": {
        "id": "5laTM-LXqjvD"
      },
      "source": [
        "test_loss, test_acc = model.evaluate(X_test,y_test)\n"
      ],
      "execution_count": null,
      "outputs": []
    },
    {
      "cell_type": "code",
      "metadata": {
        "id": "-GKakiSYqmpG"
      },
      "source": [
        "plot_history(history)"
      ],
      "execution_count": null,
      "outputs": []
    }
  ]
}